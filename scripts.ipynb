{
 "metadata": {
  "language_info": {
   "codemirror_mode": {
    "name": "ipython",
    "version": 3
   },
   "file_extension": ".py",
   "mimetype": "text/x-python",
   "name": "python",
   "nbconvert_exporter": "python",
   "pygments_lexer": "ipython3",
   "version": "3.8.5-final"
  },
  "orig_nbformat": 2,
  "kernelspec": {
   "name": "Python 3.8.5 64-bit",
   "display_name": "Python 3.8.5 64-bit",
   "metadata": {
    "interpreter": {
     "hash": "fd5757f40fca4d55e23d240986aaaa528207f972dbe78dfd690083220c18e23b"
    }
   }
  }
 },
 "nbformat": 4,
 "nbformat_minor": 2,
 "cells": [
  {
   "source": [
    "# Problem 1\n",
    "## Introduction\n",
    "1. Say \"Hello, World!\" With Python"
   ],
   "cell_type": "markdown",
   "metadata": {}
  },
  {
   "cell_type": "code",
   "execution_count": null,
   "metadata": {},
   "outputs": [],
   "source": [
    "print(\"Hello, World!\")"
   ]
  },
  {
   "source": [
    "2. Python If-Else"
   ],
   "cell_type": "markdown",
   "metadata": {}
  },
  {
   "cell_type": "code",
   "execution_count": null,
   "metadata": {},
   "outputs": [],
   "source": [
    "#!/bin/python3\n",
    "\n",
    "import math\n",
    "import os\n",
    "import random\n",
    "import re\n",
    "import sys\n",
    "\n",
    "if __name__ == '__main__':\n",
    "    n = int(input().strip())\n",
    "\n",
    "    if (n % 2 == 1):\n",
    "        print(\"Weird\")\n",
    "    elif (n >= 2 and n <= 5):\n",
    "        print(\"Not Weird\")\n",
    "    elif (n >= 6 and n <= 20):\n",
    "        print(\"Weird\")\n",
    "    else:\n",
    "        print(\"Not Weird\")"
   ]
  },
  {
   "source": [
    "3. Arithmetic Operators"
   ],
   "cell_type": "markdown",
   "metadata": {}
  },
  {
   "cell_type": "code",
   "execution_count": null,
   "metadata": {},
   "outputs": [],
   "source": [
    "if __name__ == '__main__':\n",
    "    a = int(input())\n",
    "    b = int(input())\n",
    "    print(a + b)\n",
    "    print(a - b)\n",
    "    print(a * b)"
   ]
  },
  {
   "source": [
    "4. Python: Division"
   ],
   "cell_type": "markdown",
   "metadata": {}
  },
  {
   "cell_type": "code",
   "execution_count": null,
   "metadata": {},
   "outputs": [],
   "source": [
    "if __name__ == '__main__':\n",
    "    a = int(input())\n",
    "    b = int(input())\n",
    "    print(a // b)\n",
    "    print(a / b)"
   ]
  },
  {
   "source": [
    "5. Loops"
   ],
   "cell_type": "markdown",
   "metadata": {}
  },
  {
   "cell_type": "code",
   "execution_count": null,
   "metadata": {},
   "outputs": [],
   "source": [
    "if __name__ == '__main__':\n",
    "    n = int(input())\n",
    "    for i in range(n):\n",
    "        print(pow(i, 2))"
   ]
  },
  {
   "source": [
    "6. Write a function"
   ],
   "cell_type": "markdown",
   "metadata": {}
  },
  {
   "cell_type": "code",
   "execution_count": null,
   "metadata": {},
   "outputs": [],
   "source": [
    "def is_leap(year):\n",
    "    leap = False\n",
    "    \n",
    "    if (year % 4 == 0):\n",
    "        if (year % 100 != 0 or year % 400 == 0):\n",
    "            leap = True\n",
    "    \n",
    "    return leap\n",
    "\n",
    "year = int(input())\n",
    "print(is_leap(year))"
   ]
  },
  {
   "source": [
    "7. Print Function"
   ],
   "cell_type": "markdown",
   "metadata": {}
  },
  {
   "cell_type": "code",
   "execution_count": null,
   "metadata": {},
   "outputs": [],
   "source": [
    "if __name__ == '__main__':\n",
    "    n = int(input())\n",
    "    for i in range(n):\n",
    "        print(i + 1, end = '')"
   ]
  },
  {
   "source": [
    "## Basic Data Types\n",
    "1. List Comprehension"
   ],
   "cell_type": "markdown",
   "metadata": {}
  },
  {
   "cell_type": "code",
   "execution_count": null,
   "metadata": {},
   "outputs": [],
   "source": [
    "if __name__ == '__main__':\n",
    "    x = int(input())\n",
    "    y = int(input())\n",
    "    z = int(input())\n",
    "    n = int(input())\n",
    "\n",
    "    list = [[i, j, k] for i in range(x + 1) for j in range (y + 1) for k in range (z + 1) if (i + j + k) != n]\n",
    "    print(list)"
   ]
  },
  {
   "source": [
    "2. Find the Runner-Up Score!"
   ],
   "cell_type": "markdown",
   "metadata": {}
  },
  {
   "cell_type": "code",
   "execution_count": null,
   "metadata": {},
   "outputs": [],
   "source": [
    "if __name__ == '__main__':\n",
    "    n = int(input())\n",
    "    arr = list(map(int, input().split()))\n",
    "\n",
    "    print(max([x for x in arr if x != max(arr)]))"
   ]
  },
  {
   "source": [
    "3. Nested Lists"
   ],
   "cell_type": "markdown",
   "metadata": {}
  },
  {
   "cell_type": "code",
   "execution_count": null,
   "metadata": {},
   "outputs": [],
   "source": [
    "if __name__ == '__main__':\n",
    "    students = []\n",
    "    scores = []\n",
    "\n",
    "    for _ in range(int(input())):\n",
    "        name = input()\n",
    "        score = float(input())\n",
    "\n",
    "        students.append([name, score])\n",
    "\n",
    "        if score not in scores:\n",
    "            scores += [score]\n",
    "\n",
    "    scores.sort()\n",
    "\n",
    "    lowest2_students = [x[0] for x in students if x[1] == scores[1]]\n",
    "    lowest2_students.sort()\n",
    "\n",
    "    for out in lowest2_students:\n",
    "        print(out)"
   ]
  },
  {
   "source": [
    "4. Finding the percentage"
   ],
   "cell_type": "markdown",
   "metadata": {}
  },
  {
   "cell_type": "code",
   "execution_count": null,
   "metadata": {},
   "outputs": [],
   "source": [
    "if __name__ == '__main__':\n",
    "    n = int(input())\n",
    "    student_marks = {}\n",
    "    for _ in range(n):\n",
    "        name, *line = input().split()\n",
    "        scores = list(map(float, line))\n",
    "        student_marks[name] = scores\n",
    "    query_name = input()\n",
    "\n",
    "    print('{:.2f}'.format(sum(student_marks[query_name]) / len(student_marks[query_name])))"
   ]
  },
  {
   "source": [
    "5. Lists"
   ],
   "cell_type": "markdown",
   "metadata": {}
  },
  {
   "cell_type": "code",
   "execution_count": null,
   "metadata": {},
   "outputs": [],
   "source": [
    "if __name__ == '__main__':\n",
    "    N = int(input())\n",
    "\n",
    "    aList = []\n",
    "\n",
    "    for i in range(N):\n",
    "        command = str(input()).split(' ')\n",
    "\n",
    "        if (command[0] == 'insert'):\n",
    "            aList.insert(int(command[1]), int(command[2]))\n",
    "        elif (command[0] == 'print'):\n",
    "            print(aList)\n",
    "        elif (command[0] == 'remove'):\n",
    "            aList.remove(int(command[1]))\n",
    "        elif (command[0] == 'append'):\n",
    "            aList.append(int(command[1]))\n",
    "        elif (command[0] == 'sort'):\n",
    "            aList.sort()\n",
    "        elif (command[0] == 'pop'):\n",
    "            aList.pop()\n",
    "        elif (command[0] == 'reverse'):\n",
    "            aList.reverse()"
   ]
  },
  {
   "source": [
    "6. Tuples"
   ],
   "cell_type": "markdown",
   "metadata": {}
  },
  {
   "cell_type": "code",
   "execution_count": null,
   "metadata": {},
   "outputs": [],
   "source": [
    "if __name__ == '__main__':\n",
    "    n = int(input())\n",
    "    integer_list = map(int, input().split())\n",
    "\n",
    "    print(hash(tuple(integer_list)))"
   ]
  },
  {
   "source": [
    "## Strings\n",
    "1. sWAP cASE"
   ],
   "cell_type": "markdown",
   "metadata": {}
  },
  {
   "cell_type": "code",
   "execution_count": null,
   "metadata": {},
   "outputs": [],
   "source": [
    "def swap_case(s):\n",
    "    out = ''\n",
    "    for l in s:\n",
    "        if (l.islower()):\n",
    "            out += l.upper()\n",
    "        else:\n",
    "            out += l.lower()\n",
    "    return out\n",
    "\n",
    "if __name__ == '__main__':\n",
    "    s = input()\n",
    "    result = swap_case(s)\n",
    "    print(result)"
   ]
  },
  {
   "source": [
    "2. String Split and Join"
   ],
   "cell_type": "markdown",
   "metadata": {}
  },
  {
   "cell_type": "code",
   "execution_count": null,
   "metadata": {},
   "outputs": [],
   "source": [
    "def split_and_join(line):\n",
    "    return '-'.join(line.split(' '))\n",
    "\n",
    "if __name__ == '__main__':\n",
    "    line = input()\n",
    "    result = split_and_join(line)\n",
    "    print(result)"
   ]
  },
  {
   "source": [
    "3. What's Your Name?"
   ],
   "cell_type": "markdown",
   "metadata": {}
  },
  {
   "cell_type": "code",
   "execution_count": null,
   "metadata": {},
   "outputs": [],
   "source": [
    "def print_full_name(a, b):\n",
    "    print(\"Hello {} {}! You just delved into python.\".format(a, b))\n",
    "\n",
    "if __name__ == '__main__':\n",
    "    first_name = input()\n",
    "    last_name = input()\n",
    "    print_full_name(first_name, last_name)"
   ]
  },
  {
   "source": [
    "4. Mutations"
   ],
   "cell_type": "markdown",
   "metadata": {}
  },
  {
   "cell_type": "code",
   "execution_count": null,
   "metadata": {},
   "outputs": [],
   "source": [
    "def mutate_string(string, position, character):\n",
    "    newString = string[:position] + character + string[position + 1:]\n",
    "    return ''.join(newString)\n",
    "\n",
    "if __name__ == '__main__':\n",
    "    s = input()\n",
    "    i, c = input().split()\n",
    "    s_new = mutate_string(s, int(i), c)\n",
    "    print(s_new)"
   ]
  },
  {
   "source": [
    "5. Find a string"
   ],
   "cell_type": "markdown",
   "metadata": {}
  },
  {
   "cell_type": "code",
   "execution_count": null,
   "metadata": {},
   "outputs": [],
   "source": [
    "def count_substring(string, sub_string):\n",
    "    count = 0\n",
    "\n",
    "    for i in range(0, len(string)):\n",
    "        if (string[i] == sub_string[0]):\n",
    "            for j in range(0, len(sub_string)):\n",
    "                # If end of string but not of sub_string > break\n",
    "                if(i + j == len(string)):\n",
    "                    break\n",
    "                # If letter in string doesn't equals letter in substring > break\n",
    "                elif(string[i + j] != sub_string[j]):\n",
    "                    break\n",
    "                # If last letter of substring reach > increase count\n",
    "                elif (j == len(sub_string) - 1):\n",
    "                    count += 1\n",
    "    return count\n",
    "\n",
    "if __name__ == '__main__':\n",
    "    string = input().strip()\n",
    "    sub_string = input().strip()\n",
    "    \n",
    "    count = count_substring(string, sub_string)\n",
    "    print(count)"
   ]
  },
  {
   "source": [
    "6. String Validators"
   ],
   "cell_type": "markdown",
   "metadata": {}
  },
  {
   "cell_type": "code",
   "execution_count": null,
   "metadata": {},
   "outputs": [],
   "source": [
    "if __name__ == '__main__':\n",
    "    s = input()\n",
    "\n",
    "    hasAlNum = False\n",
    "    hasAlpha = False\n",
    "    hasDigit = False\n",
    "    hasLower = False\n",
    "    hasUpper = False\n",
    "\n",
    "    for l in s:\n",
    "        if(l.isalnum()):\n",
    "            hasAlNum = True\n",
    "        if(l.isalpha()):\n",
    "            hasAlpha = True\n",
    "        if(l.isdigit()):\n",
    "            hasDigit = True\n",
    "        if(l.islower()):\n",
    "            hasLower = True\n",
    "        if(l.isupper()):\n",
    "            hasUpper = True\n",
    "\n",
    "    print(hasAlNum)\n",
    "    print(hasAlpha)\n",
    "    print(hasDigit)\n",
    "    print(hasLower)\n",
    "    print(hasUpper)"
   ]
  },
  {
   "source": [
    "7. Text Alignment"
   ],
   "cell_type": "markdown",
   "metadata": {}
  },
  {
   "cell_type": "code",
   "execution_count": null,
   "metadata": {},
   "outputs": [],
   "source": [
    "#Replace all ______ with rjust, ljust or center. \n",
    "\n",
    "thickness = int(input()) #This must be an odd number\n",
    "c = 'H'\n",
    "\n",
    "#Top Cone\n",
    "for i in range(thickness):\n",
    "    print((c*i).rjust(thickness-1)+c+(c*i).ljust(thickness-1))\n",
    "\n",
    "#Top Pillars\n",
    "for i in range(thickness+1):\n",
    "    print((c*thickness).center(thickness*2)+(c*thickness).center(thickness*6))\n",
    "\n",
    "#Middle Belt\n",
    "for i in range((thickness+1)//2):\n",
    "    print((c*thickness*5).center(thickness*6))    \n",
    "\n",
    "#Bottom Pillars\n",
    "for i in range(thickness+1):\n",
    "    print((c*thickness).center(thickness*2)+(c*thickness).center(thickness*6))    \n",
    "\n",
    "#Bottom Cone\n",
    "for i in range(thickness):\n",
    "    print(((c*(thickness-i-1)).rjust(thickness)+c+(c*(thickness-i-1)).ljust(thickness)).rjust(thickness*6))"
   ]
  },
  {
   "source": [
    "8. Text Wrap"
   ],
   "cell_type": "markdown",
   "metadata": {}
  },
  {
   "cell_type": "code",
   "execution_count": null,
   "metadata": {},
   "outputs": [],
   "source": [
    "import textwrap\n",
    "\n",
    "def wrap(string, max_width):\n",
    "    return textwrap.fill(string, max_width)\n",
    "\n",
    "if __name__ == '__main__':\n",
    "    string, max_width = input(), int(input())\n",
    "    result = wrap(string, max_width)\n",
    "    print(result)"
   ]
  },
  {
   "source": [
    "9. Designer Door Mat"
   ],
   "cell_type": "markdown",
   "metadata": {}
  },
  {
   "cell_type": "code",
   "execution_count": null,
   "metadata": {},
   "outputs": [],
   "source": [
    "# Enter your code here. Read input from STDIN. Print output to STDOUT\n",
    "size = input().split(' ')\n",
    "width = int(size[1])\n",
    "height = int(size[0])\n",
    "halfHeight = height // 2\n",
    "\n",
    "string = ''\n",
    "\n",
    "for i in range(halfHeight):\n",
    "    halfString = ('---' * (halfHeight - i)) + '.|' + ('..|' * i)\n",
    "    string += halfString + halfString[-2::-1] + '\\n'\n",
    "\n",
    "i = (width - 7) // 2\n",
    "string += ('-' * i) + 'WELCOME' + ('-' * i) + '\\n'\n",
    "\n",
    "for i in range(halfHeight - 1, -1, -1):\n",
    "    string += string[(width + 1) * i:(width + 1) * (i + 1)]\n",
    "\n",
    "print(string)"
   ]
  },
  {
   "source": [
    "10. String Formatting"
   ],
   "cell_type": "markdown",
   "metadata": {}
  },
  {
   "cell_type": "code",
   "execution_count": null,
   "metadata": {},
   "outputs": [],
   "source": [
    "def print_formatted(number):\n",
    "    length = len(bin(number)[2:])\n",
    "\n",
    "    for i in range(1, number + 1):\n",
    "        print(str(i).rjust(length), oct(i)[2:].rjust(length), hex(i)[2:].upper().rjust(length), bin(i)[2:].rjust(length))\n",
    "\n",
    "if __name__ == '__main__':\n",
    "    n = int(input())\n",
    "    print_formatted(n)"
   ]
  },
  {
   "source": [
    "11. Alphabet Rangoli"
   ],
   "cell_type": "markdown",
   "metadata": {}
  },
  {
   "cell_type": "code",
   "execution_count": null,
   "metadata": {},
   "outputs": [],
   "source": [
    "import string\n",
    "\n",
    "def print_rangoli(size):\n",
    "    letters = string.ascii_lowercase[:size][::-1]\n",
    "    width = ((((size * 2) - 1) * 2) - 1)\n",
    "    rangoli = ''\n",
    "\n",
    "    for i in range(size):\n",
    "        if i == 0:\n",
    "            rangoli += letters[i].center(width, '-') + '\\n'\n",
    "        else:\n",
    "            rangoli += '-'.join(letters[:i + 1] + letters[i - 1::-1]).center(width, '-') + '\\n'\n",
    "\n",
    "    for i in range(size - 2, -1, -1):\n",
    "        rangoli += rangoli[(width + 1) * i:(width + 1) * (i + 1)]\n",
    "\n",
    "    print(rangoli)\n",
    "\n",
    "if __name__ == '__main__':\n",
    "    n = int(input())\n",
    "    print_rangoli(n)"
   ]
  },
  {
   "source": [
    "12. Capitalize!"
   ],
   "cell_type": "markdown",
   "metadata": {}
  },
  {
   "cell_type": "code",
   "execution_count": null,
   "metadata": {},
   "outputs": [],
   "source": [
    "#!/bin/python3\n",
    "\n",
    "import math\n",
    "import os\n",
    "import random\n",
    "import re\n",
    "import sys\n",
    "\n",
    "# Complete the solve function below.\n",
    "def solve(s):\n",
    "    out = []\n",
    "    for w in s.split(' '):\n",
    "        out.append(w.capitalize())\n",
    "\n",
    "    return ' '.join(out)\n",
    "\n",
    "if __name__ == '__main__':\n",
    "    fptr = open(os.environ['OUTPUT_PATH'], 'w')\n",
    "\n",
    "    s = input()\n",
    "    \n",
    "    result = solve(s)\n",
    "    fptr.write(result + '\\n')\n",
    "    fptr.close()"
   ]
  },
  {
   "source": [
    "13. The Minion Game"
   ],
   "cell_type": "markdown",
   "metadata": {}
  },
  {
   "cell_type": "code",
   "execution_count": null,
   "metadata": {},
   "outputs": [],
   "source": [
    "def minion_game(string):\n",
    "    length = len(string)\n",
    "    vowels = 'AEIOU'\n",
    "    stuart = 0\n",
    "    kevin = 0\n",
    "\n",
    "    for i in range(length):\n",
    "        if(string[i] not in vowels):\n",
    "            stuart += (length - i)\n",
    "        else: \n",
    "            kevin += (length - i)\n",
    "\n",
    "    if stuart > kevin:\n",
    "        print('Stuart {}'.format(stuart))\n",
    "    elif kevin > stuart:\n",
    "        print('Kevin {}'.format(kevin))\n",
    "    else:\n",
    "        print('Draw')\n",
    "\n",
    "if __name__ == '__main__':\n",
    "    s = input()\n",
    "    minion_game(s)"
   ]
  },
  {
   "source": [
    "14. Merge the Tools!"
   ],
   "cell_type": "markdown",
   "metadata": {}
  },
  {
   "cell_type": "code",
   "execution_count": null,
   "metadata": {},
   "outputs": [],
   "source": [
    "import textwrap\n",
    "\n",
    "def merge_the_tools(string, k):\n",
    "    string = textwrap.wrap(string, k)\n",
    "    \n",
    "    for w in string:\n",
    "        found = []\n",
    "        for l in w:\n",
    "            if l not in found:\n",
    "                found.append(l)\n",
    "\n",
    "        print(''.join(found))\n",
    "\n",
    "if __name__ == '__main__':\n",
    "    string, k = input(), int(input())\n",
    "    merge_the_tools(string, k)"
   ]
  },
  {
   "source": [
    "## Sets\n",
    "1. Introduction to Sets"
   ],
   "cell_type": "markdown",
   "metadata": {}
  },
  {
   "cell_type": "code",
   "execution_count": null,
   "metadata": {},
   "outputs": [],
   "source": [
    "def average(array):\n",
    "    return sum(set(array))/len(set(array))\n",
    "\n",
    "if __name__ == '__main__':\n",
    "    n = int(input())\n",
    "    arr = list(map(int, input().split()))\n",
    "    result = average(arr)\n",
    "    print(result)"
   ]
  },
  {
   "source": [
    "2. Symmetric Difference"
   ],
   "cell_type": "markdown",
   "metadata": {}
  },
  {
   "cell_type": "code",
   "execution_count": null,
   "metadata": {},
   "outputs": [],
   "source": [
    "n = int(input())\n",
    "N = set(map(int, input().split()))\n",
    "m = int(input())\n",
    "M = set(map(int, input().split()))\n",
    "\n",
    "for i in N.intersection(M):\n",
    "    N.discard(i)\n",
    "    M.discard(i)\n",
    "\n",
    "aList = list(N.union(M))\n",
    "aList.sort()\n",
    "print('\\n'.join(map(str, aList)))"
   ]
  },
  {
   "source": [
    "3. No Idea!"
   ],
   "cell_type": "markdown",
   "metadata": {}
  },
  {
   "cell_type": "code",
   "execution_count": null,
   "metadata": {},
   "outputs": [],
   "source": [
    "n, m = map(int, input().split())\n",
    "C = list(map(int, input().split()))\n",
    "A = set(map(int, input().split()))\n",
    "B = set(map(int, input().split()))\n",
    "\n",
    "happiness = 0\n",
    "\n",
    "for i in C:\n",
    "    if i in A:\n",
    "        happiness += 1\n",
    "    if i in B:\n",
    "        happiness -= 1\n",
    "\n",
    "print(happiness)"
   ]
  },
  {
   "source": [
    "4. Set .add()"
   ],
   "cell_type": "markdown",
   "metadata": {}
  },
  {
   "cell_type": "code",
   "execution_count": null,
   "metadata": {},
   "outputs": [],
   "source": [
    "n = int(input())\n",
    "\n",
    "C = set()\n",
    "for _ in range(n):\n",
    "    C.add(input())\n",
    "\n",
    "print(len(C))"
   ]
  },
  {
   "source": [
    "5. Set .discard(), .remove() & .pop()"
   ],
   "cell_type": "markdown",
   "metadata": {}
  },
  {
   "cell_type": "code",
   "execution_count": null,
   "metadata": {},
   "outputs": [],
   "source": [
    "n = int(input())\n",
    "s = set(map(int, input().split()))\n",
    "m = int(input())\n",
    "\n",
    "for _ in range(m):\n",
    "    command = input().split()\n",
    "\n",
    "    if (command[0] == 'remove'):\n",
    "        s.remove(int(command[1]))\n",
    "    elif (command[0] == 'discard'):\n",
    "        s.discard(int(command[1]))\n",
    "    elif (command[0] == 'pop'):\n",
    "        s.pop()\n",
    "\n",
    "print(sum(s))"
   ]
  },
  {
   "source": [
    "6. Set .union() Operation"
   ],
   "cell_type": "markdown",
   "metadata": {}
  },
  {
   "cell_type": "code",
   "execution_count": null,
   "metadata": {},
   "outputs": [],
   "source": [
    "n = int(input())\n",
    "N = set(map(int, input().split()))\n",
    "b = int(input())\n",
    "B = set(map(int, input().split()))\n",
    "\n",
    "print(len(N.union(B)))"
   ]
  },
  {
   "source": [
    "7. Set .intersection() Operation"
   ],
   "cell_type": "markdown",
   "metadata": {}
  },
  {
   "cell_type": "code",
   "execution_count": null,
   "metadata": {},
   "outputs": [],
   "source": [
    "n = int(input())\n",
    "N = set(map(int, input().split()))\n",
    "b = int(input())\n",
    "B = set(map(int, input().split()))\n",
    "\n",
    "print(len(N.intersection(B)))"
   ]
  },
  {
   "source": [
    "8. Set .difference() Operation"
   ],
   "cell_type": "markdown",
   "metadata": {}
  },
  {
   "cell_type": "code",
   "execution_count": null,
   "metadata": {},
   "outputs": [],
   "source": [
    "n = int(input())\n",
    "N = set(map(int, input().split()))\n",
    "b = int(input())\n",
    "B = set(map(int, input().split()))\n",
    "\n",
    "print(len(N.difference(B)))"
   ]
  },
  {
   "source": [
    "9. Set .symmetric_difference() Operation"
   ],
   "cell_type": "markdown",
   "metadata": {}
  },
  {
   "cell_type": "code",
   "execution_count": null,
   "metadata": {},
   "outputs": [],
   "source": [
    "n = int(input())\n",
    "N = set(map(int, input().split()))\n",
    "b = int(input())\n",
    "B = set(map(int, input().split()))\n",
    "\n",
    "print(len(N.symmetric_difference(B)))"
   ]
  },
  {
   "source": [
    "10. Set Mutations"
   ],
   "cell_type": "markdown",
   "metadata": {}
  },
  {
   "cell_type": "code",
   "execution_count": null,
   "metadata": {},
   "outputs": [],
   "source": [
    "a = int(input())\n",
    "A = set(map(int, input().split()))\n",
    "n = int(input())\n",
    "\n",
    "for _ in range(n):\n",
    "    command = input().split()\n",
    "    B = set(map(int, input().split()))\n",
    "\n",
    "    if (command[0] == 'update'):\n",
    "        A.update(B)\n",
    "    elif (command[0] == 'intersection_update'):\n",
    "        A.intersection_update(B)\n",
    "    elif (command[0] == 'difference_update'):\n",
    "        A.difference_update(B)\n",
    "    elif (command[0] == 'symmetric_difference_update'):\n",
    "        A.symmetric_difference_update(B)\n",
    "\n",
    "print(sum(A))"
   ]
  },
  {
   "source": [
    "11. The Captain's Room"
   ],
   "cell_type": "markdown",
   "metadata": {}
  },
  {
   "cell_type": "code",
   "execution_count": null,
   "metadata": {},
   "outputs": [],
   "source": [
    "k = input()\n",
    "K = list(map(int, input().split()))\n",
    "\n",
    "rooms = set()\n",
    "multiple = set()\n",
    "\n",
    "for r in K:\n",
    "    if r not in rooms:\n",
    "        rooms.add(r)\n",
    "    else:\n",
    "        multiple.add(r)\n",
    "\n",
    "print(rooms.difference(multiple).pop())"
   ]
  },
  {
   "source": [
    "12. Check Subset"
   ],
   "cell_type": "markdown",
   "metadata": {}
  },
  {
   "cell_type": "code",
   "execution_count": null,
   "metadata": {},
   "outputs": [],
   "source": [
    "t = int(input())\n",
    "\n",
    "for _ in range(t):\n",
    "    a = int(input())\n",
    "    A = set(map(int, input().split()))\n",
    "    b = int(input())\n",
    "    B = set(map(int, input().split()))\n",
    "\n",
    "    print(a == len(A.intersection(B)))"
   ]
  },
  {
   "source": [
    "13. Check Strict Superset"
   ],
   "cell_type": "markdown",
   "metadata": {}
  },
  {
   "cell_type": "code",
   "execution_count": null,
   "metadata": {},
   "outputs": [],
   "source": [
    "A = set(map(int, input().split()))\n",
    "a = len(A)\n",
    "n = int(input())\n",
    "\n",
    "superset = False\n",
    "for _ in range(n):\n",
    "    B = set(map(int, input().split()))\n",
    "\n",
    "    if (len(A.intersection(B)) < a and len(A.union(B)) < a):\n",
    "        superset = True\n",
    "\n",
    "print(superset)"
   ]
  },
  {
   "source": [
    "## Collections\n",
    "1. collections.Counter()"
   ],
   "cell_type": "markdown",
   "metadata": {}
  },
  {
   "cell_type": "code",
   "execution_count": null,
   "metadata": {},
   "outputs": [],
   "source": [
    "from collections import Counter\n",
    "\n",
    "x = int(input())\n",
    "X = list(map(int, input().split()))\n",
    "n = int(input())\n",
    "\n",
    "earnings = 0\n",
    "\n",
    "for _ in range(n):\n",
    "    N = list(map(int, input().split()))\n",
    "\n",
    "    if (Counter(X)[N[0]] > 0):\n",
    "        earnings += N[1]\n",
    "        X.remove(N[0])\n",
    "\n",
    "print(earnings)"
   ]
  },
  {
   "source": [
    "2. DefaultDict Tutorial"
   ],
   "cell_type": "markdown",
   "metadata": {}
  },
  {
   "cell_type": "code",
   "execution_count": null,
   "metadata": {},
   "outputs": [],
   "source": [
    "from collections import defaultdict\n",
    "\n",
    "n, m = map(int, input().split())\n",
    "\n",
    "N = defaultdict(list)\n",
    "for i in range(n):\n",
    "    N[input()].append(i + 1)\n",
    "\n",
    "for _ in range(m):\n",
    "    M = input()\n",
    "\n",
    "    if (len(N[M]) > 0):\n",
    "        print(' '.join(map(str, N[M])))\n",
    "    else:\n",
    "        print(str(-1))"
   ]
  },
  {
   "source": [
    "3. Collections.namedtuple()"
   ],
   "cell_type": "markdown",
   "metadata": {}
  },
  {
   "cell_type": "code",
   "execution_count": null,
   "metadata": {},
   "outputs": [],
   "source": [
    "from collections import namedtuple\n",
    "n = int(input())\n",
    "C = list(map(str, input().split()))\n",
    "Student = namedtuple('Student', C)\n",
    "\n",
    "marks = 0\n",
    "\n",
    "for _ in range(n):\n",
    "    D = list(map(str, input().split()))\n",
    "    student = Student(D[0], D[1], D[2], D[3])\n",
    "    marks += int(student.MARKS)\n",
    "\n",
    "print(f'{marks / n:.2f}')"
   ]
  },
  {
   "source": [
    "4. Collections.OrderedDict()"
   ],
   "cell_type": "markdown",
   "metadata": {}
  },
  {
   "cell_type": "code",
   "execution_count": null,
   "metadata": {},
   "outputs": [],
   "source": [
    "from collections import OrderedDict\n",
    "n = int(input())\n",
    "orderedDict = OrderedDict()\n",
    "\n",
    "for _ in range(n):\n",
    "    N = list(input().split())\n",
    "\n",
    "    orderedDict[' '.join(N[:-1])] = orderedDict.get(' '.join(N[:-1]), 0) + int(N[-1])\n",
    "\n",
    "for i in orderedDict:\n",
    "    print(i, orderedDict[i])"
   ]
  },
  {
   "source": [
    "5. Word Order"
   ],
   "cell_type": "markdown",
   "metadata": {}
  },
  {
   "cell_type": "code",
   "execution_count": null,
   "metadata": {},
   "outputs": [],
   "source": [
    "from collections import OrderedDict\n",
    "n = int(input())\n",
    "orderedDict = OrderedDict()\n",
    "\n",
    "for _ in range(n):\n",
    "    N = input()\n",
    "    orderedDict[N] = orderedDict.get(N, 0) + 1\n",
    "\n",
    "print(len(orderedDict))\n",
    "print(' '.join(map(str, orderedDict.values())))"
   ]
  },
  {
   "source": [
    "6. Collections.deque()"
   ],
   "cell_type": "markdown",
   "metadata": {}
  },
  {
   "cell_type": "code",
   "execution_count": null,
   "metadata": {},
   "outputs": [],
   "source": [
    "from collections import deque\n",
    "d = deque()\n",
    "n = int(input())\n",
    "\n",
    "for _ in range(n):\n",
    "    command = input().split()\n",
    "\n",
    "    if (command[0] == 'append'):\n",
    "        d.append(command[1])\n",
    "    elif (command[0] == 'appendleft'):\n",
    "        d.appendleft(command[1])\n",
    "    elif (command[0] == 'pop'):\n",
    "        d.pop()\n",
    "    elif (command[0] == 'popleft'):\n",
    "        d.popleft()\n",
    "\n",
    "print(' '.join(map(str, d)))"
   ]
  },
  {
   "source": [
    "7. Piling Up!"
   ],
   "cell_type": "markdown",
   "metadata": {}
  },
  {
   "cell_type": "code",
   "execution_count": null,
   "metadata": {},
   "outputs": [],
   "source": [
    "from collections import deque\n",
    "\n",
    "t = int(input())\n",
    "for _ in range(t):\n",
    "    n = int(input())\n",
    "    N = deque(map(int, input().split()))\n",
    "\n",
    "    last = max(N) + 1\n",
    "    yes = True\n",
    "\n",
    "    while (len(N) > 0):\n",
    "        if (N[0] >= N[-1]):\n",
    "            current = N.popleft()\n",
    "        else:\n",
    "            current = N.pop()\n",
    "\n",
    "        if current > last:\n",
    "            yes = False\n",
    "\n",
    "        last = current\n",
    "        \n",
    "    print('Yes' if yes else 'No')\n"
   ]
  },
  {
   "source": [
    "8. Company Logo"
   ],
   "cell_type": "markdown",
   "metadata": {}
  },
  {
   "cell_type": "code",
   "execution_count": null,
   "metadata": {},
   "outputs": [],
   "source": [
    "from collections import Counter\n",
    "s = list(input())\n",
    "s.sort()\n",
    "mostCommon = Counter(s).most_common(3)\n",
    "\n",
    "for i in mostCommon:\n",
    "    print(i[0], i[1])"
   ]
  },
  {
   "source": [
    "## Date and Time\n",
    "1. Calendar Module"
   ],
   "cell_type": "markdown",
   "metadata": {}
  },
  {
   "cell_type": "code",
   "execution_count": null,
   "metadata": {},
   "outputs": [],
   "source": [
    "import calendar\n",
    "\n",
    "date = list(map(int, input().split()))\n",
    "\n",
    "dayList = list(calendar.day_name)\n",
    "day = dayList[calendar.weekday(date[2], date[0], date[1])]\n",
    "\n",
    "print(f'{day.upper()}')"
   ]
  },
  {
   "source": [
    "2. Time Delta"
   ],
   "cell_type": "markdown",
   "metadata": {}
  },
  {
   "cell_type": "code",
   "execution_count": null,
   "metadata": {},
   "outputs": [],
   "source": [
    "#!/bin/python3\n",
    "\n",
    "import math\n",
    "import os\n",
    "import random\n",
    "import re\n",
    "import sys\n",
    "import datetime\n",
    "\n",
    "# Complete the time_delta function below.\n",
    "def time_delta(t1, t2):\n",
    "    firstDate = datetime.datetime.strptime(t1, '%a %d %b %Y %H:%M:%S %z')\n",
    "    secondDate = datetime.datetime.strptime(t2, '%a %d %b %Y %H:%M:%S %z')\n",
    "\n",
    "    print(firstDate)\n",
    "    print(secondDate)\n",
    "\n",
    "    return str(abs(int(firstDate.timestamp() - secondDate.timestamp())))\n",
    "\n",
    "if __name__ == '__main__':\n",
    "    fptr = open(os.environ['OUTPUT_PATH'], 'w')\n",
    "\n",
    "    t = int(input())\n",
    "\n",
    "    for t_itr in range(t):\n",
    "        t1 = input()\n",
    "\n",
    "        t2 = input()\n",
    "\n",
    "        delta = time_delta(t1, t2)\n",
    "\n",
    "        fptr.write(delta + '\\n')\n",
    "\n",
    "    fptr.close()"
   ]
  },
  {
   "source": [
    "## Errors and Exceptions\n",
    "1. Exceptions"
   ],
   "cell_type": "markdown",
   "metadata": {}
  },
  {
   "cell_type": "code",
   "execution_count": null,
   "metadata": {},
   "outputs": [],
   "source": [
    "t = int(input())\n",
    "for _ in range(t):\n",
    "    a, b = input().split()\n",
    "\n",
    "    try:\n",
    "        print(int(int(a)/int(b)))\n",
    "    except ZeroDivisionError as e:\n",
    "        print(f'Error Code: integer division or modulo by zero')\n",
    "    except ValueError as e:\n",
    "        print(f'Error Code: {e}')"
   ]
  },
  {
   "source": [
    "2. Incorrect Regex"
   ],
   "cell_type": "markdown",
   "metadata": {}
  },
  {
   "cell_type": "code",
   "execution_count": null,
   "metadata": {},
   "outputs": [],
   "source": [
    "import re\n",
    "\n",
    "t = int(input())\n",
    "for _ in range(t):\n",
    "    regex = input()\n",
    "    try:\n",
    "        re.findall(regex, '')\n",
    "        print(True)\n",
    "    except re.error as e:\n",
    "        print(False)"
   ]
  },
  {
   "source": [
    "## Built-Ins\n",
    "1. Input()"
   ],
   "cell_type": "markdown",
   "metadata": {}
  },
  {
   "cell_type": "code",
   "execution_count": null,
   "metadata": {},
   "outputs": [],
   "source": [
    "x, k = map(int, input().split())\n",
    "result = eval(input())\n",
    "print(result == k)"
   ]
  },
  {
   "source": [
    "2. ginortS"
   ],
   "cell_type": "markdown",
   "metadata": {}
  },
  {
   "cell_type": "code",
   "execution_count": null,
   "metadata": {},
   "outputs": [],
   "source": [
    "s = input()\n",
    "lc = []\n",
    "uc = []\n",
    "odd = []\n",
    "even = []\n",
    "\n",
    "for l in s:\n",
    "    if l.isdigit():\n",
    "        if int(l) % 2 == 0:\n",
    "            even.append(l)\n",
    "        else:\n",
    "            odd.append(l)\n",
    "    elif l.islower():\n",
    "        lc.append(l)\n",
    "    elif l.isupper():\n",
    "        uc.append(l)\n",
    "lc.sort()\n",
    "uc.sort()\n",
    "odd.sort()\n",
    "even.sort()\n",
    "\n",
    "print(''.join(lc + uc + odd + even))"
   ]
  },
  {
   "source": [
    "3. Python Evaluation"
   ],
   "cell_type": "markdown",
   "metadata": {}
  },
  {
   "cell_type": "code",
   "execution_count": null,
   "metadata": {},
   "outputs": [],
   "source": [
    "eval(input())"
   ]
  },
  {
   "source": [
    "## Python Functionnals\n",
    "1. Map and Lambda Function"
   ],
   "cell_type": "markdown",
   "metadata": {}
  },
  {
   "cell_type": "code",
   "execution_count": null,
   "metadata": {},
   "outputs": [],
   "source": [
    "cube = lambda x: x**3\n",
    "\n",
    "def fibonacci(n):\n",
    "    if(n == 0):\n",
    "        fib = []\n",
    "    elif (n == 1):\n",
    "        fib = [0]\n",
    "    else:\n",
    "        fib = [0, 1]\n",
    "\n",
    "        for i in range(2, n):\n",
    "            fib.append(fib[i - 1] + fib[i - 2])\n",
    "\n",
    "    return fib\n",
    "\n",
    "if __name__ == '__main__':\n",
    "    n = int(input())\n",
    "    print(list(map(cube, fibonacci(n))))"
   ]
  },
  {
   "source": [
    "## Regex and Parsing\n",
    "1. Detect Floating Point Number"
   ],
   "cell_type": "markdown",
   "metadata": {}
  },
  {
   "cell_type": "code",
   "execution_count": null,
   "metadata": {},
   "outputs": [],
   "source": [
    "import re\n",
    "\n",
    "t = int(input())\n",
    "for _ in range(t):\n",
    "    print(bool(re.match(r'[\\+\\-]{0,1}\\d*\\.\\d\\d*$', input())))"
   ]
  },
  {
   "source": [
    "2. Re.split()"
   ],
   "cell_type": "markdown",
   "metadata": {}
  },
  {
   "cell_type": "code",
   "execution_count": null,
   "metadata": {},
   "outputs": [],
   "source": [
    "regex_pattern = r\"[.,]\"\t# Do not delete 'r'.\n",
    "\n",
    "import re\n",
    "print(\"\\n\".join(re.split(regex_pattern, input())))"
   ]
  },
  {
   "source": [
    "3. Group(), Groups() & Groupdict()"
   ],
   "cell_type": "markdown",
   "metadata": {}
  },
  {
   "cell_type": "code",
   "execution_count": null,
   "metadata": {},
   "outputs": [],
   "source": [
    "import re\n",
    "\n",
    "s = input()\n",
    "notFound = True\n",
    "for l in s:\n",
    "    if l.isalnum():\n",
    "        if(bool(re.search(r''+ l * 2, s))):\n",
    "            print(l)\n",
    "            notFound = False\n",
    "            break\n",
    "\n",
    "if notFound:\n",
    "    print('-1')"
   ]
  },
  {
   "source": [
    "4. Re.findall() & Re.finditer()"
   ],
   "cell_type": "markdown",
   "metadata": {}
  },
  {
   "cell_type": "code",
   "execution_count": null,
   "metadata": {},
   "outputs": [],
   "source": [
    "import re\n",
    "\n",
    "s = input()\n",
    "\n",
    "aList = list(map(lambda x: x.group(1), re.finditer(r'[qwrtypsdfghjklzxcvbnm]([aeiou]{2,})(?=[qwrtypsdfghjklzxcvbnm])', s, flags=re.I)))\n",
    "\n",
    "if len(aList) > 0:\n",
    "    print('\\n'.join(aList))\n",
    "else:\n",
    "    print('-1')"
   ]
  },
  {
   "source": [
    "5. Re.start() & Re.end()"
   ],
   "cell_type": "markdown",
   "metadata": {}
  },
  {
   "cell_type": "code",
   "execution_count": null,
   "metadata": {},
   "outputs": [],
   "source": [
    "import re\n",
    "\n",
    "s = input()\n",
    "k = input()\n",
    "\n",
    "if not re.search(r'' + k, s):\n",
    "    print((-1, -1))\n",
    "\n",
    "start = 0\n",
    "while re.search(r'' + k, s[start:]):\n",
    "    m = re.search(r'' + k, s[start:])\n",
    "    print((start + m.start(), start + m.end() - 1))\n",
    "    start = start + m.start() + 1"
   ]
  },
  {
   "source": [
    "6. Regex Substitution"
   ],
   "cell_type": "markdown",
   "metadata": {}
  },
  {
   "cell_type": "code",
   "execution_count": null,
   "metadata": {},
   "outputs": [],
   "source": [
    "import re\n",
    "n = int(input())\n",
    "\n",
    "for _ in range(n):\n",
    "    print(re.sub(r'\\ \\&\\&(?=\\ )', ' and', re.sub(r'\\ \\|\\|(?=\\ )', ' or', input())))"
   ]
  },
  {
   "source": [
    "7. Validating Roman Numerals"
   ],
   "cell_type": "markdown",
   "metadata": {}
  },
  {
   "cell_type": "code",
   "execution_count": null,
   "metadata": {},
   "outputs": [],
   "source": [
    "regex_pattern = r\"^M{0,3}(CM|CD|D?C{0,3})(XC|XL|L?X{0,3})(IX|IV|V?I{0,3})$\"\t# Do not delete 'r'.\n",
    "\n",
    "import re\n",
    "print(str(bool(re.match(regex_pattern, input()))))"
   ]
  },
  {
   "source": [
    "8. Validating phone numbers"
   ],
   "cell_type": "markdown",
   "metadata": {}
  },
  {
   "cell_type": "code",
   "execution_count": null,
   "metadata": {},
   "outputs": [],
   "source": [
    "import re\n",
    "n = int(input())\n",
    "\n",
    "for _ in range(n):\n",
    "    if bool(re.match(r'^[789]\\d{9}$',input())):\n",
    "        print('YES')\n",
    "    else:\n",
    "        print('NO')"
   ]
  },
  {
   "source": [
    "9. Validating and Parsing Email Addresses"
   ],
   "cell_type": "markdown",
   "metadata": {}
  },
  {
   "cell_type": "code",
   "execution_count": null,
   "metadata": {},
   "outputs": [],
   "source": [
    "import re\n",
    "import email.utils\n",
    "\n",
    "n = int(input())\n",
    "for _ in range(n):\n",
    "    anEmail = email.utils.parseaddr(input())\n",
    "    if (bool(re.match(r'^[a-z][a-z0-9.\\-_]+@[a-z]+\\.[a-z]{1,3}$', anEmail[1], flags=re.I))):\n",
    "        print(email.utils.formataddr(anEmail))"
   ]
  },
  {
   "source": [
    "10. Hex Color Code"
   ],
   "cell_type": "markdown",
   "metadata": {}
  },
  {
   "cell_type": "code",
   "execution_count": null,
   "metadata": {},
   "outputs": [],
   "source": [
    "import re\n",
    "n = int(input())\n",
    "for _ in range(n):\n",
    "    aList = list(map(lambda x: x.group(), re.finditer(r'(?<=.)(#[a-f0-9]{6}|#[a-f0-9]{3})', input(), flags=re.I)))\n",
    "    if(len(aList) > 0):\n",
    "        print('\\n'.join(aList))"
   ]
  },
  {
   "source": [
    "11. HTML Parser - Part 1"
   ],
   "cell_type": "markdown",
   "metadata": {}
  },
  {
   "cell_type": "code",
   "execution_count": null,
   "metadata": {},
   "outputs": [],
   "source": [
    "from html.parser import HTMLParser\n",
    "\n",
    "class MyHTMLParser(HTMLParser):\n",
    "    def handle_starttag(self, tag, attrs):\n",
    "        print(f'Start : {tag}')\n",
    "        for attr in attrs:\n",
    "            print(f'-> {attr[0]} > {attr[1]}')\n",
    "    def handle_endtag(self, tag):\n",
    "        print(f'End   : {tag}')\n",
    "    def handle_startendtag(self, tag, attrs):\n",
    "        print(f'Empty : {tag}')\n",
    "        for attr in attrs:\n",
    "            print(f'-> {attr[0]} > {attr[1]}')\n",
    "\n",
    "n = int(input())\n",
    "parser = MyHTMLParser()\n",
    "\n",
    "for _ in range(n):\n",
    "    parser.feed(input())"
   ]
  },
  {
   "source": [
    "12. HTML Parser - Part 2"
   ],
   "cell_type": "markdown",
   "metadata": {}
  },
  {
   "cell_type": "code",
   "execution_count": null,
   "metadata": {},
   "outputs": [],
   "source": [
    "from html.parser import HTMLParser\n",
    "import re\n",
    "\n",
    "class MyHTMLParser(HTMLParser):\n",
    "    def handle_comment(self, data):\n",
    "        if ('\\n' in data):\n",
    "            print('>>> Multi-line Comment')\n",
    "        else:\n",
    "            print('>>> Single-line Comment')\n",
    "\n",
    "        print(data)\n",
    "    def handle_data(self, data):\n",
    "        if (data != '\\n'):\n",
    "            print(f'>>> Data\\n{data}')\n",
    "html = \"\"   \n",
    "for i in range(int(input())):\n",
    "    html += input().rstrip()\n",
    "    html += '\\n'\n",
    "    \n",
    "parser = MyHTMLParser()\n",
    "parser.feed(html)\n",
    "parser.close()"
   ]
  },
  {
   "source": [
    "13. Detect HTML Tags, Attributes and Attribute Values"
   ],
   "cell_type": "markdown",
   "metadata": {}
  },
  {
   "cell_type": "code",
   "execution_count": null,
   "metadata": {},
   "outputs": [],
   "source": [
    "from html.parser import HTMLParser\n",
    "\n",
    "class MyHTMLParser(HTMLParser):\n",
    "    def handle_starttag(self, tag, attrs):\n",
    "        print(f'{tag}')\n",
    "        for attr in attrs:\n",
    "            print(f'-> {attr[0]} > {attr[1]}')\n",
    "    def handle_startendtag(self, tag, attrs):\n",
    "        print(f'{tag}')\n",
    "        for attr in attrs:\n",
    "            print(f'-> {attr[0]} > {attr[1]}')\n",
    "\n",
    "html = \"\"   \n",
    "for i in range(int(input())):\n",
    "    html += input().rstrip()\n",
    "    html += '\\n'\n",
    "    \n",
    "parser = MyHTMLParser()\n",
    "parser.feed(html)\n",
    "parser.close()"
   ]
  },
  {
   "source": [
    "14. Validating UID"
   ],
   "cell_type": "markdown",
   "metadata": {}
  },
  {
   "cell_type": "code",
   "execution_count": null,
   "metadata": {},
   "outputs": [],
   "source": [
    "import re\n",
    "\n",
    "n = int(input())\n",
    "for _ in range(n):\n",
    "    uid = input()\n",
    "    cond1 = bool(re.search(r'[a-z].*[a-z]', uid, flags=re.I))\n",
    "    cond2 = bool(re.search(r'[0-9].*[0-9].*[0-9]', uid))\n",
    "    cond3 = bool(re.search(r'[a-z0-9]*', uid, flags=re.I))\n",
    "    cond4 = not bool(re.search(r'(.).*\\1', uid))\n",
    "    cond5 = len(uid) == 10\n",
    "\n",
    "    if (cond1 and cond2 and cond3 and cond4 and cond5):\n",
    "        print('Valid')\n",
    "    else:\n",
    "        print('Invalid')"
   ]
  },
  {
   "source": [
    "15. Validating Credit Card Numbers"
   ],
   "cell_type": "markdown",
   "metadata": {}
  },
  {
   "cell_type": "code",
   "execution_count": null,
   "metadata": {},
   "outputs": [],
   "source": [
    "import re\n",
    "\n",
    "n = int(input())\n",
    "for _ in range(n):\n",
    "    card = input()\n",
    "    cond1 = bool(re.search(r'^[456]\\d{3}((-|)\\d{4}){3}$', card))\n",
    "    cond2 = not bool(re.search(r'(\\d)(\\-?\\1){3}', card))\n",
    "\n",
    "    if (cond1 and cond2):\n",
    "        print('Valid')\n",
    "    else:\n",
    "        print('Invalid')"
   ]
  },
  {
   "source": [
    "16. Validating Postal Codes"
   ],
   "cell_type": "markdown",
   "metadata": {}
  },
  {
   "cell_type": "code",
   "execution_count": null,
   "metadata": {},
   "outputs": [],
   "source": [
    "regex_integer_in_range = r'^[1-9][0-9]{5}$'\t# Do not delete 'r'.\n",
    "regex_alternating_repetitive_digit_pair = r'(\\d)(?=\\d\\1)'\t# Do not delete 'r'.\n",
    "\n",
    "\n",
    "import re\n",
    "P = input()\n",
    "\n",
    "print (bool(re.match(regex_integer_in_range, P)) \n",
    "and len(re.findall(regex_alternating_repetitive_digit_pair, P)) < 2)"
   ]
  },
  {
   "source": [
    "17. Matrix Script"
   ],
   "cell_type": "markdown",
   "metadata": {}
  },
  {
   "cell_type": "code",
   "execution_count": null,
   "metadata": {},
   "outputs": [],
   "source": [
    "#!/bin/python3\n",
    "\n",
    "import math\n",
    "import os\n",
    "import random\n",
    "import re\n",
    "import sys\n",
    "\n",
    "first_multiple_input = input().rstrip().split()\n",
    "n = int(first_multiple_input[0])\n",
    "m = int(first_multiple_input[1])\n",
    "\n",
    "matrix = []\n",
    "for _ in range(n):\n",
    "    matrix_item = input()\n",
    "    matrix.append(matrix_item)\n",
    "\n",
    "message = ''\n",
    "for i in range(m):\n",
    "    for j in matrix:\n",
    "        message += j[i]\n",
    "\n",
    "print(re.sub(r'(?<=[a-z0-9])[!@#$%& ]+(?=[a-z0-9])', ' ', message, flags=re.I))"
   ]
  },
  {
   "source": [
    "## XML\n",
    "1. XML 1 - Find the Score"
   ],
   "cell_type": "markdown",
   "metadata": {}
  },
  {
   "cell_type": "code",
   "execution_count": null,
   "metadata": {},
   "outputs": [],
   "source": [
    "import sys\n",
    "import xml.etree.ElementTree as etree\n",
    "\n",
    "def get_attr_number(node):\n",
    "    count = len(node.attrib)\n",
    "    if len(list(node)) > 0:\n",
    "        for n in list(node):\n",
    "            count += get_attr_number(n)\n",
    "    return count\n",
    "\n",
    "if __name__ == '__main__':\n",
    "    sys.stdin.readline()\n",
    "    xml = sys.stdin.read()\n",
    "    tree = etree.ElementTree(etree.fromstring(xml))\n",
    "    root = tree.getroot()\n",
    "    print(get_attr_number(root))"
   ]
  },
  {
   "source": [
    "2. XML 2 - Find the Maximum Depth"
   ],
   "cell_type": "markdown",
   "metadata": {}
  },
  {
   "cell_type": "code",
   "execution_count": null,
   "metadata": {},
   "outputs": [],
   "source": [
    "import xml.etree.ElementTree as etree\n",
    "\n",
    "maxdepth = 0\n",
    "def depth(elem, level):\n",
    "    global maxdepth\n",
    "    level += 1\n",
    "\n",
    "    if (maxdepth < level):\n",
    "        maxdepth = level\n",
    "\n",
    "    for c in list(elem):\n",
    "        depth(c, level)\n",
    "    \n",
    "\n",
    "if __name__ == '__main__':\n",
    "    n = int(input())\n",
    "    xml = \"\"\n",
    "    for i in range(n):\n",
    "        xml =  xml + input() + \"\\n\"\n",
    "    tree = etree.ElementTree(etree.fromstring(xml))\n",
    "    depth(tree.getroot(), -1)\n",
    "    print(maxdepth)"
   ]
  },
  {
   "source": [
    "## Closures and Decorators\n",
    "1. Standardize Mobile Number Using Decorators"
   ],
   "cell_type": "markdown",
   "metadata": {}
  },
  {
   "cell_type": "code",
   "execution_count": null,
   "metadata": {},
   "outputs": [],
   "source": [
    "def wrapper(f):\n",
    "    def fun(l):\n",
    "        formatedNumber = []\n",
    "        for number in l:\n",
    "            formatedNumber.append('+91 ' + number[-10:-5] + ' ' + number[-5:])\n",
    "        f(formatedNumber)\n",
    "    return fun\n",
    "\n",
    "@wrapper\n",
    "def sort_phone(l):\n",
    "    print(*sorted(l), sep='\\n')\n",
    "\n",
    "if __name__ == '__main__':\n",
    "    l = [input() for _ in range(int(input()))]\n",
    "    sort_phone(l)"
   ]
  },
  {
   "source": [
    "2. Decorators 2 - Name Directory"
   ],
   "cell_type": "markdown",
   "metadata": {}
  },
  {
   "cell_type": "code",
   "execution_count": null,
   "metadata": {},
   "outputs": [],
   "source": [
    "import operator\n",
    "\n",
    "def person_lister(f):\n",
    "    def inner(people):\n",
    "        aMap = map(f, sorted(people, key=lambda p : int(p[2])))\n",
    "        return aMap\n",
    "    return inner\n",
    "\n",
    "@person_lister\n",
    "def name_format(person):\n",
    "    return (\"Mr. \" if person[3] == \"M\" else \"Ms. \") + person[0] + \" \" + person[1]\n",
    "\n",
    "if __name__ == '__main__':\n",
    "    people = [input().split() for i in range(int(input()))]\n",
    "    print(*name_format(people), sep='\\n')"
   ]
  },
  {
   "source": [
    "## Numpy\n",
    "1. Arrays"
   ],
   "cell_type": "markdown",
   "metadata": {}
  },
  {
   "cell_type": "code",
   "execution_count": null,
   "metadata": {},
   "outputs": [],
   "source": [
    "import numpy\n",
    "\n",
    "def arrays(arr):\n",
    "    arr.reverse()\n",
    "    return numpy.array(arr, float)\n",
    "\n",
    "arr = input().strip().split(' ')\n",
    "result = arrays(arr)\n",
    "print(result)"
   ]
  },
  {
   "source": [
    "2. Shape and Reshape"
   ],
   "cell_type": "markdown",
   "metadata": {}
  },
  {
   "cell_type": "code",
   "execution_count": null,
   "metadata": {},
   "outputs": [],
   "source": [
    "import numpy\n",
    "\n",
    "anArray = numpy.array(list(map(int, input().split())))\n",
    "print(numpy.reshape(anArray, (3, 3)))"
   ]
  },
  {
   "source": [
    "3. Transpose and Flatten"
   ],
   "cell_type": "markdown",
   "metadata": {}
  },
  {
   "cell_type": "code",
   "execution_count": null,
   "metadata": {},
   "outputs": [],
   "source": [
    "import numpy\n",
    "\n",
    "n, m = map(int, input().split())\n",
    "\n",
    "aList = []\n",
    "for _ in range(n):\n",
    "    aList.append(list(map(int,input().split())))\n",
    "\n",
    "anArray = numpy.array(aList)\n",
    "print(numpy.transpose(anArray))\n",
    "print(anArray.flatten())"
   ]
  },
  {
   "source": [
    "4. Concatenate"
   ],
   "cell_type": "markdown",
   "metadata": {}
  },
  {
   "cell_type": "code",
   "execution_count": null,
   "metadata": {},
   "outputs": [],
   "source": [
    "import numpy\n",
    "\n",
    "n, m, p = map(int, input().split())\n",
    "\n",
    "aList = []\n",
    "for _ in range(n):\n",
    "    aList.append(list(map(int,input().split())))\n",
    "\n",
    "array1 = numpy.array(aList)\n",
    "\n",
    "aList = []\n",
    "for _ in range(m):\n",
    "    aList.append(list(map(int,input().split())))\n",
    "\n",
    "array2 = numpy.array(aList)\n",
    "\n",
    "print(numpy.concatenate((array1, array2), axis=0))"
   ]
  },
  {
   "source": [
    "5. Zeros and Ones"
   ],
   "cell_type": "markdown",
   "metadata": {}
  },
  {
   "cell_type": "code",
   "execution_count": null,
   "metadata": {},
   "outputs": [],
   "source": [
    "import numpy\n",
    "\n",
    "size = tuple(map(int, input().split()))\n",
    "\n",
    "print(numpy.zeros(size, int))\n",
    "print(numpy.ones(size, int))"
   ]
  },
  {
   "source": [
    "6. Eye and Identity"
   ],
   "cell_type": "markdown",
   "metadata": {}
  },
  {
   "cell_type": "code",
   "execution_count": null,
   "metadata": {},
   "outputs": [],
   "source": [
    "import numpy\n",
    "import re\n",
    "\n",
    "n, m = map(int, input().split())\n",
    "print(str(numpy.eye(n, m)).replace('0', ' 0').replace('1', ' 1'))"
   ]
  },
  {
   "source": [
    "7. Array Mathematics"
   ],
   "cell_type": "markdown",
   "metadata": {}
  },
  {
   "cell_type": "code",
   "execution_count": null,
   "metadata": {},
   "outputs": [],
   "source": [
    "import numpy\n",
    "\n",
    "n, m = map(int, input().split())\n",
    "\n",
    "A = []\n",
    "for _ in range(n):\n",
    "    A.append(list(map(int, input().split()))) \n",
    "A = numpy.array(A)\n",
    "\n",
    "B = []\n",
    "for _ in range(n):\n",
    "    B.append(list(map(int, input().split()))) \n",
    "B = numpy.array(B)\n",
    "\n",
    "print(A + B)\n",
    "print(A - B)\n",
    "print(A * B)\n",
    "print(A // B)\n",
    "print(A % B)\n",
    "print(A ** B)"
   ]
  },
  {
   "source": [
    "8. Floor, Ceil and Rint"
   ],
   "cell_type": "markdown",
   "metadata": {}
  },
  {
   "cell_type": "code",
   "execution_count": null,
   "metadata": {},
   "outputs": [],
   "source": [
    "import numpy\n",
    "\n",
    "numpy.set_printoptions(sign=' ')\n",
    "\n",
    "A = numpy.array(list(map(float, input().split())))\n",
    "\n",
    "print(numpy.floor(A))\n",
    "print(numpy.ceil(A))\n",
    "print(numpy.rint(A))"
   ]
  },
  {
   "source": [
    "9. Sum and Prod"
   ],
   "cell_type": "markdown",
   "metadata": {}
  },
  {
   "cell_type": "code",
   "execution_count": null,
   "metadata": {},
   "outputs": [],
   "source": [
    "import numpy\n",
    "\n",
    "n, m = map(int, input().split())\n",
    "\n",
    "A = []\n",
    "for _ in range(n):\n",
    "    A.append(list(map(int, input().split())))\n",
    "\n",
    "A = numpy.array(A)\n",
    "\n",
    "print(numpy.prod(numpy.sum(A, axis=0)))"
   ]
  },
  {
   "source": [
    "10. Min and Max"
   ],
   "cell_type": "markdown",
   "metadata": {}
  },
  {
   "cell_type": "code",
   "execution_count": null,
   "metadata": {},
   "outputs": [],
   "source": [
    "import numpy\n",
    "\n",
    "n, m = map(int, input().split())\n",
    "\n",
    "A = []\n",
    "for _ in range(n):\n",
    "    A.append(list(map(int, input().split())))\n",
    "\n",
    "A = numpy.array(A)\n",
    "\n",
    "print(numpy.max(numpy.min(A, axis=1)))"
   ]
  },
  {
   "source": [
    "11. Mean, Var, and Std"
   ],
   "cell_type": "markdown",
   "metadata": {}
  },
  {
   "cell_type": "code",
   "execution_count": null,
   "metadata": {},
   "outputs": [],
   "source": [
    "import numpy\n",
    "\n",
    "numpy.set_printoptions(legacy='1.13')\n",
    "\n",
    "n, m = map(int, input().split())\n",
    "\n",
    "A = []\n",
    "for _ in range(n):\n",
    "    A.append(list(map(int, input().split())))\n",
    "\n",
    "A = numpy.array(A)\n",
    "\n",
    "print(numpy.mean(A, axis=1))\n",
    "print(numpy.var(A, axis=0))\n",
    "print(f'{numpy.std(A):.11f}')"
   ]
  },
  {
   "source": [
    "12. Dot and Cross"
   ],
   "cell_type": "markdown",
   "metadata": {}
  },
  {
   "cell_type": "code",
   "execution_count": null,
   "metadata": {},
   "outputs": [],
   "source": [
    "import numpy\n",
    "\n",
    "n = int(input())\n",
    "\n",
    "A = []\n",
    "for _ in range(n):\n",
    "    A.append(list(map(int, input().split())))\n",
    "\n",
    "A = numpy.array(A)\n",
    "\n",
    "B = []\n",
    "for _ in range(n):\n",
    "    B.append(list(map(int, input().split())))\n",
    "\n",
    "B = numpy.array(B)\n",
    "\n",
    "print(numpy.dot(A, B))"
   ]
  },
  {
   "source": [
    "13. Inner and Outer"
   ],
   "cell_type": "markdown",
   "metadata": {}
  },
  {
   "cell_type": "code",
   "execution_count": null,
   "metadata": {},
   "outputs": [],
   "source": [
    "import numpy\n",
    "\n",
    "A = numpy.array(list(map(int, input().split())))\n",
    "B = numpy.array(list(map(int, input().split())))\n",
    "\n",
    "print(numpy.inner(A, B))\n",
    "print(numpy.outer(A, B))"
   ]
  },
  {
   "source": [
    "14. Polynomials"
   ],
   "cell_type": "markdown",
   "metadata": {}
  },
  {
   "cell_type": "code",
   "execution_count": null,
   "metadata": {},
   "outputs": [],
   "source": [
    "import numpy\n",
    "\n",
    "P = list(map(float, input().split()))\n",
    "x = int(input())\n",
    "\n",
    "print(numpy.polyval(P, x))"
   ]
  },
  {
   "source": [
    "15. Linear Algebra"
   ],
   "cell_type": "markdown",
   "metadata": {}
  },
  {
   "cell_type": "code",
   "execution_count": null,
   "metadata": {},
   "outputs": [],
   "source": [
    "import numpy\n",
    "\n",
    "n = int(input())\n",
    "\n",
    "A = []\n",
    "for _ in range(n):\n",
    "    A.append(list(map(float, input().split())))\n",
    "\n",
    "A = numpy.array(A)\n",
    "\n",
    "print(numpy.linalg.det(A))"
   ]
  },
  {
   "source": [
    "# Problem 2\n",
    "1. Birthday Cake Candles"
   ],
   "cell_type": "markdown",
   "metadata": {}
  },
  {
   "cell_type": "code",
   "execution_count": null,
   "metadata": {},
   "outputs": [],
   "source": [
    "#!/bin/python3\n",
    "\n",
    "import math\n",
    "import os\n",
    "import random\n",
    "import re\n",
    "import sys\n",
    "from collections import Counter\n",
    "\n",
    "#\n",
    "# Complete the 'birthdayCakeCandles' function below.\n",
    "#\n",
    "# The function is expected to return an INTEGER.\n",
    "# The function accepts INTEGER_ARRAY candles as parameter.\n",
    "#\n",
    "\n",
    "def birthdayCakeCandles(candles):\n",
    "    return Counter(candles)[max(candles)]\n",
    "\n",
    "if __name__ == '__main__':\n",
    "    fptr = open(os.environ['OUTPUT_PATH'], 'w')\n",
    "\n",
    "    candles_count = int(input().strip())\n",
    "\n",
    "    candles = list(map(int, input().rstrip().split()))\n",
    "\n",
    "    result = birthdayCakeCandles(candles)\n",
    "\n",
    "    fptr.write(str(result) + '\\n')\n",
    "\n",
    "    fptr.close()"
   ]
  },
  {
   "source": [
    "2. Number Line Jumps"
   ],
   "cell_type": "markdown",
   "metadata": {}
  },
  {
   "cell_type": "code",
   "execution_count": null,
   "metadata": {},
   "outputs": [],
   "source": [
    "#!/bin/python3\n",
    "\n",
    "import math\n",
    "import os\n",
    "import random\n",
    "import re\n",
    "import sys\n",
    "\n",
    "# Complete the kangaroo function below.\n",
    "def kangaroo(x1, v1, x2, v2):\n",
    "    if v1 == v2 and x1 != x2: # The kangaroos are at the same speed and can not be at the same place\n",
    "        return 'NO'\n",
    "    if (x1 - x2) / (v2 - v1) < 0 or (x1 - x2) % (v2 - v1) != 0: # The result of (x1 - x2) / (v2 - v1) is the # of jumps needed to have the kangaroos at the same place, this number must be a positive integer.\n",
    "        return 'NO'\n",
    "    return 'YES'\n",
    "\n",
    "if __name__ == '__main__':\n",
    "    fptr = open(os.environ['OUTPUT_PATH'], 'w')\n",
    "\n",
    "    x1V1X2V2 = input().split()\n",
    "\n",
    "    x1 = int(x1V1X2V2[0])\n",
    "    v1 = int(x1V1X2V2[1])\n",
    "    x2 = int(x1V1X2V2[2])\n",
    "    v2 = int(x1V1X2V2[3])\n",
    "\n",
    "    result = kangaroo(x1, v1, x2, v2)\n",
    "    fptr.write(result + '\\n')\n",
    "    fptr.close()"
   ]
  },
  {
   "source": [
    "3. Viral Advertising"
   ],
   "cell_type": "markdown",
   "metadata": {}
  },
  {
   "cell_type": "code",
   "execution_count": null,
   "metadata": {},
   "outputs": [],
   "source": [
    "#!/bin/python3\n",
    "\n",
    "import math\n",
    "import os\n",
    "import random\n",
    "import re\n",
    "import sys\n",
    "\n",
    "# Complete the viralAdvertising function below.\n",
    "def viralAdvertising(n):\n",
    "    shared = 5\n",
    "    cummulative = 0\n",
    "    for _ in range(n):\n",
    "        liked = math.floor(shared / 2)\n",
    "        shared = liked * 3\n",
    "        cummulative += liked\n",
    "\n",
    "    return cummulative\n",
    "\n",
    "if __name__ == '__main__':\n",
    "    fptr = open(os.environ['OUTPUT_PATH'], 'w')\n",
    "    n = int(input())\n",
    "    result = viralAdvertising(n)\n",
    "    fptr.write(str(result) + '\\n')\n",
    "    fptr.close()"
   ]
  },
  {
   "source": [
    "4. Recursive Digit Sum"
   ],
   "cell_type": "markdown",
   "metadata": {}
  },
  {
   "cell_type": "code",
   "execution_count": null,
   "metadata": {},
   "outputs": [],
   "source": [
    "#!/bin/python3\n",
    "\n",
    "import math\n",
    "import os\n",
    "import random\n",
    "import re\n",
    "import sys\n",
    "\n",
    "# Complete the superDigit function below.\n",
    "def superDigit(n, k):\n",
    "    if (len(n) == 1):\n",
    "        return n\n",
    "    else:\n",
    "        n = list(map(int, n))\n",
    "        return superDigit(str(sum(n) * k), 1)\n",
    "\n",
    "if __name__ == '__main__':\n",
    "    fptr = open(os.environ['OUTPUT_PATH'], 'w')\n",
    "    nk = input().split()\n",
    "    n = nk[0]\n",
    "    k = int(nk[1])\n",
    "    result = superDigit(n, k)\n",
    "    fptr.write(str(result) + '\\n')\n",
    "    fptr.close()"
   ]
  },
  {
   "source": [
    "5. Insertion Sort - Part 1"
   ],
   "cell_type": "markdown",
   "metadata": {}
  },
  {
   "cell_type": "code",
   "execution_count": null,
   "metadata": {},
   "outputs": [],
   "source": [
    "#!/bin/python3\n",
    "\n",
    "import math\n",
    "import os\n",
    "import random\n",
    "import re\n",
    "import sys\n",
    "\n",
    "# Complete the insertionSort1 function below.\n",
    "def insertionSort1(n, arr):\n",
    "    inserted = arr[n - 1]\n",
    "    for i in range(n - 1, 0, -1):\n",
    "        if arr[i - 1] > inserted:\n",
    "            arr[i] = arr[i - 1]\n",
    "            print(' '.join(map(str, arr)))\n",
    "        else:\n",
    "            arr[i] = inserted\n",
    "            print(' '.join(map(str, arr)))\n",
    "            return\n",
    "\n",
    "    arr[0] = inserted\n",
    "    print(' '.join(map(str, arr)))\n",
    "    return\n",
    "\n",
    "if __name__ == '__main__':\n",
    "    n = int(input())\n",
    "    arr = list(map(int, input().rstrip().split()))\n",
    "    insertionSort1(n, arr)"
   ]
  },
  {
   "source": [
    "6. Insertion Sort - Part 2"
   ],
   "cell_type": "markdown",
   "metadata": {}
  },
  {
   "cell_type": "code",
   "execution_count": null,
   "metadata": {},
   "outputs": [],
   "source": [
    "#!/bin/python3\n",
    "\n",
    "import math\n",
    "import os\n",
    "import random\n",
    "import re\n",
    "import sys\n",
    "\n",
    "def insertionSort1(n, arr):\n",
    "    inserted = arr[n - 1]\n",
    "    for i in range(n - 2, -1, -1):\n",
    "            if arr[i] > inserted:\n",
    "                arr[i + 1] = arr[i]\n",
    "                if i == 0:\n",
    "                    arr[i] = inserted\n",
    "                    return arr\n",
    "            else:\n",
    "                arr[i + 1] = inserted\n",
    "                return arr\n",
    "\n",
    "# Complete the insertionSort2 function below.\n",
    "def insertionSort2(n, arr):\n",
    "    for i in range(2, n + 1):\n",
    "        arr[0:i] = insertionSort1(i, arr[0:i])\n",
    "        print(' '.join(map(str, arr)))\n",
    "\n",
    "\n",
    "if __name__ == '__main__':\n",
    "    n = int(input())\n",
    "\n",
    "    arr = list(map(int, input().rstrip().split()))\n",
    "\n",
    "    insertionSort2(n, arr)"
   ]
  }
 ]
}